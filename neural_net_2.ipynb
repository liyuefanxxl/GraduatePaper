{
 "cells": [
  {
   "cell_type": "code",
   "execution_count": 1,
   "metadata": {
    "collapsed": true
   },
   "outputs": [],
   "source": [
    "import numpy as np"
   ]
  },
  {
   "cell_type": "code",
   "execution_count": null,
   "metadata": {
    "collapsed": true
   },
   "outputs": [],
   "source": [
    "class neural_net(object):\n",
    "    def __init__(self, X, inp=2, outp=2, epsilon=0.01, reg_lambda=0.01):\n",
    "        self.X=X\n",
    "        self.num_examples=len(self.X)\n",
    "        self.nn_input_dim=inp\n",
    "        self.nn_output_dim=outp\n",
    "        self.epsilon=epsilon\n",
    "        self,reg_lambda=reg_lambda\n",
    "    \n",
    "    def calculate_loss(self, self.model):\n",
    "        W1, b1, W2, b2 = self.model['W1'], self.model['b1'], self.model['W2'], self.model['b2']\n",
    "        \n",
    "        z1=self.X.dot(W1)+b1\n",
    "        a1=np.tanh(z1)\n",
    "        z2=a1.dot(W2)+b2\n",
    "        exp_scores=np.exp(z2)\n",
    "        probs=exp_scores/np.sum(exp_scores, axis=1, keepdims=True)\n",
    "        corect_logprobs=-np.log(probs[range(self.numexamples),y])\n",
    "        data_loss=npsum(corect_logprobs)\n",
    "        data_loss+=reg_lambda/2*(np.sum(np.square(W1))+np.sum(np.square(W2)))\n",
    "        return 1./num_examples*data_loss\n",
    "    \n",
    "    "
   ]
  }
 ],
 "metadata": {
  "kernelspec": {
   "display_name": "Python 2",
   "language": "python",
   "name": "python2"
  },
  "language_info": {
   "codemirror_mode": {
    "name": "ipython",
    "version": 2
   },
   "file_extension": ".py",
   "mimetype": "text/x-python",
   "name": "python",
   "nbconvert_exporter": "python",
   "pygments_lexer": "ipython2",
   "version": "2.7.11"
  }
 },
 "nbformat": 4,
 "nbformat_minor": 0
}
