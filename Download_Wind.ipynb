{
 "cells": [
  {
   "cell_type": "code",
   "execution_count": 1,
   "metadata": {
    "collapsed": true
   },
   "outputs": [],
   "source": [
    "# -*- coding:utf-8 -*-"
   ]
  },
  {
   "cell_type": "code",
   "execution_count": 2,
   "metadata": {
    "collapsed": false
   },
   "outputs": [],
   "source": [
    "from WindPy import *\n",
    "from datetime import *\n",
    "import pandas as pd\n",
    "import datetime\n",
    "import matplotlib.pyplot as plt\n",
    "%matplotlib inline\n",
    "import numpy as np"
   ]
  },
  {
   "cell_type": "code",
   "execution_count": 3,
   "metadata": {
    "collapsed": false
   },
   "outputs": [
    {
     "name": "stdout",
     "output_type": "stream",
     "text": [
      "Welcome to use Wind Quant API for Python (WindPy)!\n",
      "You can use w.menu to help yourself to create commands(WSD,WSS,WST,WSI,WSQ,...)!\n",
      "\n",
      "COPYRIGHT (C) 2016 WIND HONGHUI INFORMATION & TECHKNOLEWDGE CO., LTD. ALL RIGHTS RESERVED.\n",
      "IN NO CIRCUMSTANCE SHALL WIND BE RESPONSIBLE FOR ANY DAMAGES OR LOSSES CAUSED BY USING WIND QUANT API FOR Python.\n"
     ]
    },
    {
     "data": {
      "text/plain": [
       ".ErrorCode=0\n",
       ".Data=[OK!]"
      ]
     },
     "execution_count": 3,
     "metadata": {},
     "output_type": "execute_result"
    }
   ],
   "source": [
    "w.start()"
   ]
  },
  {
   "cell_type": "code",
   "execution_count": 5,
   "metadata": {
    "collapsed": true
   },
   "outputs": [],
   "source": [
    "w.menu()"
   ]
  },
  {
   "cell_type": "code",
   "execution_count": 6,
   "metadata": {
    "collapsed": false
   },
   "outputs": [],
   "source": [
    "wdata=w.wsd(\"000001.SZ\",\"open, high, low, close, volume, amt\",\"20151122\", \"20151222\", \"Fill=Previous\")"
   ]
  },
  {
   "cell_type": "code",
   "execution_count": 7,
   "metadata": {
    "collapsed": false
   },
   "outputs": [
    {
     "data": {
      "text/plain": [
       ".ErrorCode=0\n",
       ".Codes=[000001.SZ]\n",
       ".Fields=[OPEN,HIGH,LOW,CLOSE,VOLUME,AMT]\n",
       ".Times=[20151123,20151124,20151125,20151126,20151127,20151130,20151201,20151202,20151203,20151204,...]\n",
       ".Data=[[12.55,12.41,12.21,12.36,12.18,11.72,11.7,11.7,12.39,12.31,...],[12.6,12.45,12.37,12.38,12.2,11.87,11.86,12.64,12.75,12.38,...],[12.38,12.16,12.17,12.2,11.53,11.5,11.51,11.66,12.25,12.08,...],[12.45,12.28,12.32,12.23,11.73,11.74,11.75,12.51,12.45,12.12,...],[60797531.0,66421478.0,51346272.0,55221015.0,72802594.0,65849389.0,68025390.0,161576086.0,142597678.0,76453245.0,...],[760493340.7,812675943.5,629507063.6,679692129.9,867702430.6,770221398.4,793118214.1,1978750510.3,1786008972.1,934906568.6,...]]"
      ]
     },
     "execution_count": 7,
     "metadata": {},
     "output_type": "execute_result"
    }
   ],
   "source": [
    "wdata"
   ]
  },
  {
   "cell_type": "code",
   "execution_count": 5,
   "metadata": {
    "collapsed": true
   },
   "outputs": [],
   "source": [
    "Allstock=w.wset(\"SectorConstituent\",\"date=20151122;sectorId=a001010200000000;field=wind_code\")"
   ]
  },
  {
   "cell_type": "code",
   "execution_count": 9,
   "metadata": {
    "collapsed": true
   },
   "outputs": [],
   "source": [
    "da=pd.DataFrame(wdata.Data,index=wdata.Fields,columns=wdata.Times)"
   ]
  },
  {
   "cell_type": "code",
   "execution_count": 10,
   "metadata": {
    "collapsed": false
   },
   "outputs": [],
   "source": [
    "da=da.T"
   ]
  },
  {
   "cell_type": "code",
   "execution_count": 11,
   "metadata": {
    "collapsed": false,
    "scrolled": true
   },
   "outputs": [
    {
     "data": {
      "text/html": [
       "<div>\n",
       "<table border=\"1\" class=\"dataframe\">\n",
       "  <thead>\n",
       "    <tr style=\"text-align: right;\">\n",
       "      <th></th>\n",
       "      <th>OPEN</th>\n",
       "      <th>HIGH</th>\n",
       "      <th>LOW</th>\n",
       "      <th>CLOSE</th>\n",
       "      <th>VOLUME</th>\n",
       "      <th>AMT</th>\n",
       "    </tr>\n",
       "  </thead>\n",
       "  <tbody>\n",
       "    <tr>\n",
       "      <th>2015-11-23 00:00:00.005</th>\n",
       "      <td>12.55</td>\n",
       "      <td>12.60</td>\n",
       "      <td>12.38</td>\n",
       "      <td>12.45</td>\n",
       "      <td>60797531</td>\n",
       "      <td>7.604933e+08</td>\n",
       "    </tr>\n",
       "    <tr>\n",
       "      <th>2015-11-24 00:00:00.005</th>\n",
       "      <td>12.41</td>\n",
       "      <td>12.45</td>\n",
       "      <td>12.16</td>\n",
       "      <td>12.28</td>\n",
       "      <td>66421478</td>\n",
       "      <td>8.126759e+08</td>\n",
       "    </tr>\n",
       "    <tr>\n",
       "      <th>2015-11-25 00:00:00.005</th>\n",
       "      <td>12.21</td>\n",
       "      <td>12.37</td>\n",
       "      <td>12.17</td>\n",
       "      <td>12.32</td>\n",
       "      <td>51346272</td>\n",
       "      <td>6.295071e+08</td>\n",
       "    </tr>\n",
       "    <tr>\n",
       "      <th>2015-11-26 00:00:00.005</th>\n",
       "      <td>12.36</td>\n",
       "      <td>12.38</td>\n",
       "      <td>12.20</td>\n",
       "      <td>12.23</td>\n",
       "      <td>55221015</td>\n",
       "      <td>6.796921e+08</td>\n",
       "    </tr>\n",
       "    <tr>\n",
       "      <th>2015-11-27 00:00:00.005</th>\n",
       "      <td>12.18</td>\n",
       "      <td>12.20</td>\n",
       "      <td>11.53</td>\n",
       "      <td>11.73</td>\n",
       "      <td>72802594</td>\n",
       "      <td>8.677024e+08</td>\n",
       "    </tr>\n",
       "    <tr>\n",
       "      <th>2015-11-30 00:00:00.005</th>\n",
       "      <td>11.72</td>\n",
       "      <td>11.87</td>\n",
       "      <td>11.50</td>\n",
       "      <td>11.74</td>\n",
       "      <td>65849389</td>\n",
       "      <td>7.702214e+08</td>\n",
       "    </tr>\n",
       "    <tr>\n",
       "      <th>2015-12-01 00:00:00.005</th>\n",
       "      <td>11.70</td>\n",
       "      <td>11.86</td>\n",
       "      <td>11.51</td>\n",
       "      <td>11.75</td>\n",
       "      <td>68025390</td>\n",
       "      <td>7.931182e+08</td>\n",
       "    </tr>\n",
       "    <tr>\n",
       "      <th>2015-12-02 00:00:00.005</th>\n",
       "      <td>11.70</td>\n",
       "      <td>12.64</td>\n",
       "      <td>11.66</td>\n",
       "      <td>12.51</td>\n",
       "      <td>161576086</td>\n",
       "      <td>1.978751e+09</td>\n",
       "    </tr>\n",
       "    <tr>\n",
       "      <th>2015-12-03 00:00:00.005</th>\n",
       "      <td>12.39</td>\n",
       "      <td>12.75</td>\n",
       "      <td>12.25</td>\n",
       "      <td>12.45</td>\n",
       "      <td>142597678</td>\n",
       "      <td>1.786009e+09</td>\n",
       "    </tr>\n",
       "    <tr>\n",
       "      <th>2015-12-04 00:00:00.005</th>\n",
       "      <td>12.31</td>\n",
       "      <td>12.38</td>\n",
       "      <td>12.08</td>\n",
       "      <td>12.12</td>\n",
       "      <td>76453245</td>\n",
       "      <td>9.349066e+08</td>\n",
       "    </tr>\n",
       "    <tr>\n",
       "      <th>2015-12-07 00:00:00.005</th>\n",
       "      <td>12.31</td>\n",
       "      <td>12.38</td>\n",
       "      <td>12.08</td>\n",
       "      <td>12.12</td>\n",
       "      <td>76453245</td>\n",
       "      <td>9.349066e+08</td>\n",
       "    </tr>\n",
       "    <tr>\n",
       "      <th>2015-12-08 00:00:00.005</th>\n",
       "      <td>12.31</td>\n",
       "      <td>12.38</td>\n",
       "      <td>12.08</td>\n",
       "      <td>12.12</td>\n",
       "      <td>76453245</td>\n",
       "      <td>9.349066e+08</td>\n",
       "    </tr>\n",
       "    <tr>\n",
       "      <th>2015-12-09 00:00:00.005</th>\n",
       "      <td>12.31</td>\n",
       "      <td>12.38</td>\n",
       "      <td>12.08</td>\n",
       "      <td>12.12</td>\n",
       "      <td>76453245</td>\n",
       "      <td>9.349066e+08</td>\n",
       "    </tr>\n",
       "    <tr>\n",
       "      <th>2015-12-10 00:00:00.005</th>\n",
       "      <td>12.31</td>\n",
       "      <td>12.38</td>\n",
       "      <td>12.08</td>\n",
       "      <td>12.12</td>\n",
       "      <td>76453245</td>\n",
       "      <td>9.349066e+08</td>\n",
       "    </tr>\n",
       "    <tr>\n",
       "      <th>2015-12-11 00:00:00.005</th>\n",
       "      <td>12.31</td>\n",
       "      <td>12.38</td>\n",
       "      <td>12.08</td>\n",
       "      <td>12.12</td>\n",
       "      <td>76453245</td>\n",
       "      <td>9.349066e+08</td>\n",
       "    </tr>\n",
       "    <tr>\n",
       "      <th>2015-12-14 00:00:00.005</th>\n",
       "      <td>12.31</td>\n",
       "      <td>12.38</td>\n",
       "      <td>12.08</td>\n",
       "      <td>12.12</td>\n",
       "      <td>76453245</td>\n",
       "      <td>9.349066e+08</td>\n",
       "    </tr>\n",
       "    <tr>\n",
       "      <th>2015-12-15 00:00:00.005</th>\n",
       "      <td>12.31</td>\n",
       "      <td>12.38</td>\n",
       "      <td>12.08</td>\n",
       "      <td>12.12</td>\n",
       "      <td>76453245</td>\n",
       "      <td>9.349066e+08</td>\n",
       "    </tr>\n",
       "    <tr>\n",
       "      <th>2015-12-16 00:00:00.005</th>\n",
       "      <td>12.31</td>\n",
       "      <td>12.38</td>\n",
       "      <td>12.08</td>\n",
       "      <td>12.12</td>\n",
       "      <td>76453245</td>\n",
       "      <td>9.349066e+08</td>\n",
       "    </tr>\n",
       "    <tr>\n",
       "      <th>2015-12-17 00:00:00.005</th>\n",
       "      <td>12.31</td>\n",
       "      <td>12.38</td>\n",
       "      <td>12.08</td>\n",
       "      <td>12.12</td>\n",
       "      <td>76453245</td>\n",
       "      <td>9.349066e+08</td>\n",
       "    </tr>\n",
       "    <tr>\n",
       "      <th>2015-12-18 00:00:00.005</th>\n",
       "      <td>12.31</td>\n",
       "      <td>12.38</td>\n",
       "      <td>12.08</td>\n",
       "      <td>12.12</td>\n",
       "      <td>76453245</td>\n",
       "      <td>9.349066e+08</td>\n",
       "    </tr>\n",
       "    <tr>\n",
       "      <th>2015-12-21 00:00:00.005</th>\n",
       "      <td>12.31</td>\n",
       "      <td>12.38</td>\n",
       "      <td>12.08</td>\n",
       "      <td>12.12</td>\n",
       "      <td>76453245</td>\n",
       "      <td>9.349066e+08</td>\n",
       "    </tr>\n",
       "    <tr>\n",
       "      <th>2015-12-22 00:00:00.005</th>\n",
       "      <td>12.31</td>\n",
       "      <td>12.38</td>\n",
       "      <td>12.08</td>\n",
       "      <td>12.12</td>\n",
       "      <td>76453245</td>\n",
       "      <td>9.349066e+08</td>\n",
       "    </tr>\n",
       "  </tbody>\n",
       "</table>\n",
       "</div>"
      ],
      "text/plain": [
       "                          OPEN   HIGH    LOW  CLOSE     VOLUME           AMT\n",
       "2015-11-23 00:00:00.005  12.55  12.60  12.38  12.45   60797531  7.604933e+08\n",
       "2015-11-24 00:00:00.005  12.41  12.45  12.16  12.28   66421478  8.126759e+08\n",
       "2015-11-25 00:00:00.005  12.21  12.37  12.17  12.32   51346272  6.295071e+08\n",
       "2015-11-26 00:00:00.005  12.36  12.38  12.20  12.23   55221015  6.796921e+08\n",
       "2015-11-27 00:00:00.005  12.18  12.20  11.53  11.73   72802594  8.677024e+08\n",
       "2015-11-30 00:00:00.005  11.72  11.87  11.50  11.74   65849389  7.702214e+08\n",
       "2015-12-01 00:00:00.005  11.70  11.86  11.51  11.75   68025390  7.931182e+08\n",
       "2015-12-02 00:00:00.005  11.70  12.64  11.66  12.51  161576086  1.978751e+09\n",
       "2015-12-03 00:00:00.005  12.39  12.75  12.25  12.45  142597678  1.786009e+09\n",
       "2015-12-04 00:00:00.005  12.31  12.38  12.08  12.12   76453245  9.349066e+08\n",
       "2015-12-07 00:00:00.005  12.31  12.38  12.08  12.12   76453245  9.349066e+08\n",
       "2015-12-08 00:00:00.005  12.31  12.38  12.08  12.12   76453245  9.349066e+08\n",
       "2015-12-09 00:00:00.005  12.31  12.38  12.08  12.12   76453245  9.349066e+08\n",
       "2015-12-10 00:00:00.005  12.31  12.38  12.08  12.12   76453245  9.349066e+08\n",
       "2015-12-11 00:00:00.005  12.31  12.38  12.08  12.12   76453245  9.349066e+08\n",
       "2015-12-14 00:00:00.005  12.31  12.38  12.08  12.12   76453245  9.349066e+08\n",
       "2015-12-15 00:00:00.005  12.31  12.38  12.08  12.12   76453245  9.349066e+08\n",
       "2015-12-16 00:00:00.005  12.31  12.38  12.08  12.12   76453245  9.349066e+08\n",
       "2015-12-17 00:00:00.005  12.31  12.38  12.08  12.12   76453245  9.349066e+08\n",
       "2015-12-18 00:00:00.005  12.31  12.38  12.08  12.12   76453245  9.349066e+08\n",
       "2015-12-21 00:00:00.005  12.31  12.38  12.08  12.12   76453245  9.349066e+08\n",
       "2015-12-22 00:00:00.005  12.31  12.38  12.08  12.12   76453245  9.349066e+08"
      ]
     },
     "execution_count": 11,
     "metadata": {},
     "output_type": "execute_result"
    }
   ],
   "source": [
    "da"
   ]
  },
  {
   "cell_type": "code",
   "execution_count": null,
   "metadata": {
    "collapsed": true
   },
   "outputs": [],
   "source": [
    "def ipo_data(stk_list):\n",
    "    i_data=pd.DataFrame()\n",
    "    for i in range(len(stk_list[0])):\n",
    "        print 100.0*i/len(stk_list[0]),'\\r',\n",
    "        \n",
    "        i_data=i_data.append(pd.DataFrame(w.wss(stk_list[0][i],\"ipo_date, open, close\").Data).T)\n",
    "    return i_data"
   ]
  },
  {
   "cell_type": "code",
   "execution_count": 6,
   "metadata": {
    "collapsed": false
   },
   "outputs": [
    {
     "data": {
      "text/plain": [
       "u'600004.SH'"
      ]
     },
     "execution_count": 6,
     "metadata": {},
     "output_type": "execute_result"
    }
   ],
   "source": [
    "Allstock.Data[0][1]"
   ]
  },
  {
   "cell_type": "code",
   "execution_count": 10,
   "metadata": {
    "collapsed": false
   },
   "outputs": [],
   "source": [
    "stock_list=pd.DataFrame(Allstock.Data[0])\n",
    "stock_list.to_csv('stock_list.csv')"
   ]
  },
  {
   "cell_type": "code",
   "execution_count": null,
   "metadata": {
    "collapsed": false
   },
   "outputs": [],
   "source": [
    "w.wss(Allstock.Data[0][1],\"ipo_date, open, close\").Data"
   ]
  },
  {
   "cell_type": "code",
   "execution_count": null,
   "metadata": {
    "collapsed": false
   },
   "outputs": [],
   "source": [
    "ipo=ipo_data(Allstock.Data)"
   ]
  },
  {
   "cell_type": "code",
   "execution_count": null,
   "metadata": {
    "collapsed": false
   },
   "outputs": [],
   "source": [
    "r_ipo=(ipo.iloc[:,2]-ipo.iloc[:,1])/ipo.iloc[:,1]"
   ]
  },
  {
   "cell_type": "code",
   "execution_count": null,
   "metadata": {
    "collapsed": false
   },
   "outputs": [],
   "source": [
    "price_data=pd.DataFrame()\n",
    "for j in range(len(ipo.iloc[:,0])):\n",
    "    print j*100.0/len(ipo.iloc[:,0]), '\\r',\n",
    "    temp=w.wsd(Allstock.Data[0][j],\"open, high, low, close, pb_lf, industry_gicscode, pe_ttm, ev, val_pe_deducted_ttm, ps_ttm, pcf_ocf_ttm\",str(ipo.iloc[j,0]),str(ipo.iloc[j,0]), \"Fill=Previous\")\n",
    "    price_data=price_data.append((pd.DataFrame(temp.Data,index=temp.Fields,columns=temp.Times).T))"
   ]
  },
  {
   "cell_type": "code",
   "execution_count": null,
   "metadata": {
    "collapsed": false
   },
   "outputs": [],
   "source": [
    "w.wsd(Allstock.Data[0][1],\"open, high, low, close, pb_ttm\",str(ipo.iloc[1,0]),str(ipo.iloc[1,0]), \"Fill=Previous\")"
   ]
  },
  {
   "cell_type": "code",
   "execution_count": null,
   "metadata": {
    "collapsed": false
   },
   "outputs": [],
   "source": [
    "len(ipo.iloc[:,0])"
   ]
  },
  {
   "cell_type": "code",
   "execution_count": null,
   "metadata": {
    "collapsed": false,
    "scrolled": true
   },
   "outputs": [],
   "source": [
    "r_ipo_2=(price_data.CLOSE-price_data.OPEN)/price_data.OPEN"
   ]
  },
  {
   "cell_type": "code",
   "execution_count": null,
   "metadata": {
    "collapsed": false
   },
   "outputs": [],
   "source": [
    "len(price_data.PB_LF)"
   ]
  },
  {
   "cell_type": "code",
   "execution_count": null,
   "metadata": {
    "collapsed": false,
    "scrolled": false
   },
   "outputs": [],
   "source": [
    "len(price_data.PB_LF.dropna())"
   ]
  },
  {
   "cell_type": "code",
   "execution_count": null,
   "metadata": {
    "collapsed": false,
    "scrolled": true
   },
   "outputs": [],
   "source": [
    "r_ipo_2"
   ]
  },
  {
   "cell_type": "code",
   "execution_count": null,
   "metadata": {
    "collapsed": false,
    "scrolled": true
   },
   "outputs": [],
   "source": [
    "plt.hist(r_ipo_2.dropna(),bins=80);"
   ]
  },
  {
   "cell_type": "code",
   "execution_count": null,
   "metadata": {
    "collapsed": true
   },
   "outputs": [],
   "source": [
    "stk_small=[]\n",
    "for i in range(2001,2789):\n",
    "    stk_small.append('00'+str(i)+'.SZ')"
   ]
  },
  {
   "cell_type": "code",
   "execution_count": null,
   "metadata": {
    "collapsed": false
   },
   "outputs": [],
   "source": [
    "stk_small_ipo_date=pd.DataFrame()\n",
    "for k in range(len(stk_small)):\n",
    "    print k*100.0/len(stk_small),'\\r',\n",
    "    temp=w.wss(stk_small[k],\"ipo_date\")\n",
    "    stk_small_ipo_date=stk_small_ipo_date.append(pd.DataFrame(temp.Data,index=temp.Fields,columns=temp.Times).T)\n",
    "    "
   ]
  },
  {
   "cell_type": "code",
   "execution_count": null,
   "metadata": {
    "collapsed": false,
    "scrolled": true
   },
   "outputs": [],
   "source": [
    "stk_small_ipo_date.IPO_DATE[100]"
   ]
  },
  {
   "cell_type": "code",
   "execution_count": null,
   "metadata": {
    "collapsed": false
   },
   "outputs": [],
   "source": [
    "ipo_small=pd.DataFrame()\n",
    "for z in range(len(stk_small)):\n",
    "    print z*100.0/len(stk_small),'\\r',\n",
    "    temp=w.wsd(stk_small[z],\"open, high, low, close, pb_lf, industry_gicscode, pe_ttm, ev, val_pe_deducted_ttm, ps_ttm, pcf_ocf_ttm\",str(stk_small_ipo_date.IPO_DATE[z]),str(stk_small_ipo_date.IPO_DATE[z]), \"Fill=Previous\")\n",
    "    ipo_small=ipo_small.append(pd.DataFrame(temp.Data, index=temp.Fields, columns=temp.Times).T)"
   ]
  },
  {
   "cell_type": "code",
   "execution_count": null,
   "metadata": {
    "collapsed": false,
    "scrolled": true
   },
   "outputs": [],
   "source": [
    "ipo_small.PB_LF.dropna()"
   ]
  },
  {
   "cell_type": "code",
   "execution_count": 14,
   "metadata": {
    "collapsed": false
   },
   "outputs": [
    {
     "data": {
      "text/plain": [
       ".ErrorCode=0\n",
       ".Codes=[1,2,3,4,5,6,7,8,9,10,...]\n",
       ".Fields=[date,wind_code,sec_name]\n",
       ".Times=[20160305]\n",
       ".Data=[[2016-03-05 00:00:00.005000,2016-03-05 00:00:00.005000,2016-03-05 00:00:00.005000,2016-03-05 00:00:00.005000,2016-03-05 00:00:00.005000,2016-03-05 00:00:00.005000,2016-03-05 00:00:00.005000,2016-03-05 00:00:00.005000,2016-03-05 00:00:00.005000,2016-03-05 00:00:00.005000,...],[000059.SZ,000096.SZ,000159.SZ,000552.SZ,000554.SZ,000571.SZ,000723.SZ,000780.SZ,000852.SZ,000937.SZ,...],[u'*ST\\u534e\\u9526',u'\\u5e7f\\u805a\\u80fd\\u6e90',u'\\u56fd\\u9645\\u5b9e\\u4e1a',u'\\u9756\\u8fdc\\u7164\\u7535',u'\\u6cf0\\u5c71\\u77f3\\u6cb9',u'\\u65b0\\u5927\\u6d32A',u'\\u7f8e\\u9526\\u80fd\\u6e90',u'\\u5e73\\u5e84\\u80fd\\u6e90',u'\\u77f3\\u5316\\u673a\\u68b0',u'\\u5180\\u4e2d\\u80fd\\u6e90',...]]"
      ]
     },
     "execution_count": 14,
     "metadata": {},
     "output_type": "execute_result"
    }
   ],
   "source": [
    "w.wset(\"SectorConstituent\",\"date=20160305;sectorId=6210000000000000\")"
   ]
  },
  {
   "cell_type": "code",
   "execution_count": 16,
   "metadata": {
    "collapsed": false
   },
   "outputs": [
    {
     "data": {
      "text/plain": [
       ".ErrorCode=0\n",
       ".Codes=[1,2,3,4,5,6,7,8,9,10,...]\n",
       ".Fields=[wind_code]\n",
       ".Times=[20160305]\n",
       ".Data=[[000059.SZ,000096.SZ,000159.SZ,000552.SZ,000554.SZ,000571.SZ,000723.SZ,000780.SZ,000852.SZ,000937.SZ,...]]"
      ]
     },
     "execution_count": 16,
     "metadata": {},
     "output_type": "execute_result"
    }
   ],
   "source": [
    "\n",
    "w.wset(\"SectorConstituent\",\"date=20160305;sectorId=6210000000000000;field=wind_code\")"
   ]
  },
  {
   "cell_type": "code",
   "execution_count": 28,
   "metadata": {
    "collapsed": false
   },
   "outputs": [
    {
     "name": "stdout",
     "output_type": "stream",
     "text": []
    },
    {
     "ename": "KeyboardInterrupt",
     "evalue": "",
     "output_type": "error",
     "traceback": [
      "\u001b[1;31m---------------------------------------------------------------------------\u001b[0m",
      "\u001b[1;31mKeyboardInterrupt\u001b[0m                         Traceback (most recent call last)",
      "\u001b[1;32m<ipython-input-28-2768d7693288>\u001b[0m in \u001b[0;36m<module>\u001b[1;34m()\u001b[0m\n\u001b[0;32m     26\u001b[0m \u001b[1;33m\u001b[0m\u001b[0m\n\u001b[0;32m     27\u001b[0m         \u001b[1;32mprint\u001b[0m \u001b[1;34m'stock'\u001b[0m\u001b[1;33m,\u001b[0m\u001b[0mnp\u001b[0m\u001b[1;33m.\u001b[0m\u001b[0mfloat\u001b[0m\u001b[1;33m(\u001b[0m\u001b[0mstock_count\u001b[0m\u001b[1;33m/\u001b[0m\u001b[0mlen\u001b[0m\u001b[1;33m(\u001b[0m\u001b[0meach_list\u001b[0m\u001b[1;33m)\u001b[0m\u001b[1;33m)\u001b[0m\u001b[1;33m,\u001b[0m\u001b[1;34m'\\r'\u001b[0m\u001b[1;33m,\u001b[0m\u001b[1;33m\u001b[0m\u001b[0m\n\u001b[1;32m---> 28\u001b[1;33m         \u001b[0mdata\u001b[0m\u001b[1;33m=\u001b[0m\u001b[0mw\u001b[0m\u001b[1;33m.\u001b[0m\u001b[0mwsd\u001b[0m\u001b[1;33m(\u001b[0m\u001b[0mstock\u001b[0m\u001b[1;33m,\u001b[0m \u001b[1;34m\"industry_gicscode,pct_chg,ev,val_pe_deducted_ttm,pb_lf,ps_ttm,pcf_ocf_ttm,dividendyield\"\u001b[0m\u001b[1;33m,\u001b[0m \u001b[1;34m\"2008-01-01\"\u001b[0m\u001b[1;33m,\u001b[0m \u001b[1;34m\"2016-03-05\"\u001b[0m\u001b[1;33m,\u001b[0m \u001b[1;34m\"industryType=1;rptYear=2014;Fill=Previous\"\u001b[0m\u001b[1;33m)\u001b[0m\u001b[1;33m\u001b[0m\u001b[0m\n\u001b[0m\u001b[0;32m     29\u001b[0m         \u001b[0mdata_frame\u001b[0m\u001b[1;33m=\u001b[0m\u001b[0mdata_frame\u001b[0m\u001b[1;33m.\u001b[0m\u001b[0mappend\u001b[0m\u001b[1;33m(\u001b[0m\u001b[0mpd\u001b[0m\u001b[1;33m.\u001b[0m\u001b[0mDataFrame\u001b[0m\u001b[1;33m(\u001b[0m\u001b[0mdata\u001b[0m\u001b[1;33m.\u001b[0m\u001b[0mData\u001b[0m\u001b[1;33m)\u001b[0m\u001b[1;33m.\u001b[0m\u001b[0mT\u001b[0m\u001b[1;33m)\u001b[0m\u001b[1;33m\u001b[0m\u001b[0m\n\u001b[0;32m     30\u001b[0m         \u001b[0mstock_count\u001b[0m\u001b[1;33m+=\u001b[0m\u001b[1;36m1\u001b[0m\u001b[1;33m\u001b[0m\u001b[0m\n",
      "\u001b[1;32mC:\\Wind\\Wind.NET.Client\\WindNET\\x64\\WindPy.pyc\u001b[0m in \u001b[0;36mwsd\u001b[1;34m(codes, fields, beginTime, endTime, options, *arga, **argb)\u001b[0m\n\u001b[0;32m    810\u001b[0m \u001b[1;33m\u001b[0m\u001b[0m\n\u001b[0;32m    811\u001b[0m             \u001b[0mout\u001b[0m \u001b[1;33m=\u001b[0m\u001b[0mw\u001b[0m\u001b[1;33m.\u001b[0m\u001b[0mWindData\u001b[0m\u001b[1;33m(\u001b[0m\u001b[1;33m)\u001b[0m\u001b[1;33m;\u001b[0m\u001b[1;33m\u001b[0m\u001b[0m\n\u001b[1;32m--> 812\u001b[1;33m             \u001b[0mapiout\u001b[0m\u001b[1;33m=\u001b[0m\u001b[0mw\u001b[0m\u001b[1;33m.\u001b[0m\u001b[0mc_wsd\u001b[0m\u001b[1;33m(\u001b[0m\u001b[0mcodes\u001b[0m\u001b[1;33m,\u001b[0m\u001b[0mfields\u001b[0m\u001b[1;33m,\u001b[0m\u001b[0mbeginTime\u001b[0m\u001b[1;33m,\u001b[0m\u001b[0mendTime\u001b[0m\u001b[1;33m,\u001b[0m\u001b[0moptions\u001b[0m\u001b[1;33m)\u001b[0m\u001b[1;33m;\u001b[0m\u001b[1;33m\u001b[0m\u001b[0m\n\u001b[0m\u001b[0;32m    813\u001b[0m             \u001b[0mout\u001b[0m\u001b[1;33m.\u001b[0m\u001b[0mset\u001b[0m\u001b[1;33m(\u001b[0m\u001b[0mapiout\u001b[0m\u001b[1;33m,\u001b[0m\u001b[1;36m1\u001b[0m\u001b[1;33m,\u001b[0m\u001b[0masdate\u001b[0m\u001b[1;33m=\u001b[0m\u001b[0mTrue\u001b[0m\u001b[1;33m)\u001b[0m\u001b[1;33m;\u001b[0m\u001b[1;33m\u001b[0m\u001b[0m\n\u001b[0;32m    814\u001b[0m             \u001b[0mw\u001b[0m\u001b[1;33m.\u001b[0m\u001b[0mc_free_data\u001b[0m\u001b[1;33m(\u001b[0m\u001b[0mapiout\u001b[0m\u001b[1;33m)\u001b[0m\u001b[1;33m;\u001b[0m\u001b[1;33m\u001b[0m\u001b[0m\n",
      "\u001b[1;31mKeyboardInterrupt\u001b[0m: "
     ]
    }
   ],
   "source": [
    "# coding: utf-8\n",
    "from WindPy import *\n",
    "from datetime import *\n",
    "import pandas as pd\n",
    "import matplotlib.pyplot as plt\n",
    "import numpy as np\n",
    "\n",
    "w.start()\n",
    "\n",
    "\n",
    "\n",
    "#\n",
    "def get_sector_list(sectorID, date):\n",
    "    sector_list=w.wset(\"SectorConstituent\", \"date= %s; setorId=%s; field=wind_code\"%(date,sectorID))\n",
    "    return sector_list.Data[0]\n",
    "\n",
    "Industry_list=['6210000000000000','6215000000000000','6220000000000000','6225000000000000','6230000000000000','6235000000000000','6240000000000000','6245000000000000','6250000000000000','6255000000000000']\n",
    "\n",
    "for item in Industry_list:\n",
    "    item_count=1\n",
    "    print 'The number of industry:', item_count, '\\r',\n",
    "    stock_count=0\n",
    "    data_frame=pd.DataFrame()\n",
    "    each_list=get_sector_list(item,'20160305')\n",
    "    for stock in each_list:\n",
    "        \n",
    "        print 'stock',np.float(stock_count/len(each_list)),'\\r',\n",
    "        data=w.wsd(stock, \"industry_gicscode,pct_chg,ev,val_pe_deducted_ttm,pb_lf,ps_ttm,pcf_ocf_ttm,dividendyield\", \"2008-01-01\", \"2016-03-05\", \"industryType=1;rptYear=2014;Fill=Previous\")\n",
    "        data_frame=data_frame.append(pd.DataFrame(data.Data).T)\n",
    "        stock_count+=1\n",
    "    data_frame.to_csv('%s.csv'%item,header=True)\n",
    "    item_count+=1"
   ]
  },
  {
   "cell_type": "code",
   "execution_count": 4,
   "metadata": {
    "collapsed": false
   },
   "outputs": [
    {
     "data": {
      "text/plain": [
       ".ErrorCode=-40522017\n",
       ".Codes=[ErrorReport]\n",
       ".Fields=[OUTMESSAGE]\n",
       ".Times=[20160305]\n",
       ".Data=[[CWSDService: quota exceeded.]]"
      ]
     },
     "execution_count": 4,
     "metadata": {},
     "output_type": "execute_result"
    }
   ],
   "source": [
    "w.wsd('000001.sz',\"ipo_date\")"
   ]
  },
  {
   "cell_type": "code",
   "execution_count": null,
   "metadata": {
    "collapsed": true
   },
   "outputs": [],
   "source": []
  }
 ],
 "metadata": {
  "kernelspec": {
   "display_name": "Python 2",
   "language": "python",
   "name": "python2"
  },
  "language_info": {
   "codemirror_mode": {
    "name": "ipython",
    "version": 2
   },
   "file_extension": ".py",
   "mimetype": "text/x-python",
   "name": "python",
   "nbconvert_exporter": "python",
   "pygments_lexer": "ipython2",
   "version": "2.7.11"
  }
 },
 "nbformat": 4,
 "nbformat_minor": 0
}
